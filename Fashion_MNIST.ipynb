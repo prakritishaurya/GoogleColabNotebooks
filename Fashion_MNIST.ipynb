{
  "nbformat": 4,
  "nbformat_minor": 0,
  "metadata": {
    "colab": {
      "name": "Fashion_MNIST.ipynb",
      "provenance": [],
      "collapsed_sections": [],
      "authorship_tag": "ABX9TyPN2fZEwObswD8z+yaXYv//",
      "include_colab_link": true
    },
    "kernelspec": {
      "name": "python3",
      "display_name": "Python 3"
    }
  },
  "cells": [
    {
      "cell_type": "markdown",
      "metadata": {
        "id": "view-in-github",
        "colab_type": "text"
      },
      "source": [
        "<a href=\"https://colab.research.google.com/github/prakritishaurya/GoogleColabNotebooks/blob/master/Fashion_MNIST.ipynb\" target=\"_parent\"><img src=\"https://colab.research.google.com/assets/colab-badge.svg\" alt=\"Open In Colab\"/></a>"
      ]
    },
    {
      "cell_type": "code",
      "metadata": {
        "colab": {
          "base_uri": "https://localhost:8080/",
          "height": 35
        },
        "id": "HhrPLbln40Hu",
        "outputId": "9e43b772-a613-4da7-b55f-d4b98b9ed756"
      },
      "source": [
        "import tensorflow as tf\n",
        "from tensorflow import keras\n",
        "\n",
        "tf.__version__\n",
        "keras.__version__"
      ],
      "execution_count": 10,
      "outputs": [
        {
          "output_type": "execute_result",
          "data": {
            "application/vnd.google.colaboratory.intrinsic+json": {
              "type": "string"
            },
            "text/plain": [
              "'2.4.0'"
            ]
          },
          "metadata": {
            "tags": []
          },
          "execution_count": 10
        }
      ]
    },
    {
      "cell_type": "code",
      "metadata": {
        "id": "Z-NoejNv5RLc"
      },
      "source": [
        "fashion_mnist= keras.datasets.fashion_mnist\n",
        "(X_train_full, y_train_full),(X_test, y_test) = fashion_mnist.load_data()"
      ],
      "execution_count": 11,
      "outputs": []
    },
    {
      "cell_type": "code",
      "metadata": {
        "colab": {
          "base_uri": "https://localhost:8080/"
        },
        "id": "952p0yRU5kwo",
        "outputId": "40eccc49-177f-4e57-fdec-001d7be12d15"
      },
      "source": [
        "X_train_full.shape"
      ],
      "execution_count": 12,
      "outputs": [
        {
          "output_type": "execute_result",
          "data": {
            "text/plain": [
              "(60000, 28, 28)"
            ]
          },
          "metadata": {
            "tags": []
          },
          "execution_count": 12
        }
      ]
    },
    {
      "cell_type": "code",
      "metadata": {
        "id": "Dq4PQ8CE5vYD"
      },
      "source": [
        "X_valid, X_train = X_train_full[:5000]/255.0, X_train_full[5000:]/255.0\n",
        "y_valid, y_train = y_train_full[:5000], y_train_full[5000:]"
      ],
      "execution_count": 13,
      "outputs": []
    },
    {
      "cell_type": "code",
      "metadata": {
        "id": "4pDSSELE6Ow5"
      },
      "source": [
        "class_names = [\"T-shirt/top\", \"Trouser\", \"Pullover\", \"Dress\", \"Coat\", \"Sandal\", \"Shirt\", \"Sneaker\", \"Bag\", \"Ankle boot\"]"
      ],
      "execution_count": 14,
      "outputs": []
    },
    {
      "cell_type": "code",
      "metadata": {
        "colab": {
          "base_uri": "https://localhost:8080/",
          "height": 35
        },
        "id": "7pwMa6Wp6jtS",
        "outputId": "2b56b791-4863-4af9-8f29-3229564fa71d"
      },
      "source": [
        "class_names[y_train[0]]"
      ],
      "execution_count": 15,
      "outputs": [
        {
          "output_type": "execute_result",
          "data": {
            "application/vnd.google.colaboratory.intrinsic+json": {
              "type": "string"
            },
            "text/plain": [
              "'Coat'"
            ]
          },
          "metadata": {
            "tags": []
          },
          "execution_count": 15
        }
      ]
    },
    {
      "cell_type": "code",
      "metadata": {
        "id": "aRdWIghb6rKH"
      },
      "source": [
        "model = keras.models.Sequential()\n",
        "model.add(keras.layers.Flatten(input_shape=[28,28]))\n",
        "model.add(keras.layers.Dense(300, activation=\"relu\"))\n",
        "model.add(keras.layers.Dense(100, activation=\"relu\"))\n",
        "model.add(keras.layers.Dense(10, activation=\"softmax\"))"
      ],
      "execution_count": 17,
      "outputs": []
    },
    {
      "cell_type": "code",
      "metadata": {
        "id": "_Vo3YUF2704r",
        "colab": {
          "base_uri": "https://localhost:8080/",
          "height": 466
        },
        "outputId": "4f8285ba-2424-4418-e186-46363522c4ea"
      },
      "source": [
        "keras.utils.plot_model(model)"
      ],
      "execution_count": 19,
      "outputs": [
        {
          "output_type": "execute_result",
          "data": {
            "image/png": "[encoded data removed]",
            "text/plain": [
              "<IPython.core.display.Image object>"
            ]
          },
          "metadata": {
            "tags": []
          },
          "execution_count": 19
        }
      ]
    },
    {
      "cell_type": "code",
      "metadata": {
        "colab": {
          "base_uri": "https://localhost:8080/"
        },
        "id": "bR2iKQS3DGVD",
        "outputId": "6e866dd4-9441-409c-8637-0f2cd6873a23"
      },
      "source": [
        "model.layers"
      ],
      "execution_count": 20,
      "outputs": [
        {
          "output_type": "execute_result",
          "data": {
            "text/plain": [
              "[<tensorflow.python.keras.layers.core.Flatten at 0x7fea38031c88>,\n",
              " <tensorflow.python.keras.layers.core.Dense at 0x7fea380341d0>,\n",
              " <tensorflow.python.keras.layers.core.Dense at 0x7fea38034518>,\n",
              " <tensorflow.python.keras.layers.core.Dense at 0x7fea38034cc0>]"
            ]
          },
          "metadata": {
            "tags": []
          },
          "execution_count": 20
        }
      ]
    },
    {
      "cell_type": "code",
      "metadata": {
        "id": "DQzSJacD7Scq",
        "colab": {
          "base_uri": "https://localhost:8080/"
        },
        "outputId": "7f45252c-1a05-40ba-8cb5-b75ccc157644"
      },
      "source": [
        "hidden1=model.layers[1]\n",
        "print(hidden1.name)\n",
        "model.get_layer('dense_6') is hidden1"
      ],
      "execution_count": 27,
      "outputs": [
        {
          "output_type": "stream",
          "text": [
            "dense_6\n"
          ],
          "name": "stdout"
        },
        {
          "output_type": "execute_result",
          "data": {
            "text/plain": [
              "True"
            ]
          },
          "metadata": {
            "tags": []
          },
          "execution_count": 27
        }
      ]
    },
    {
      "cell_type": "code",
      "metadata": {
        "colab": {
          "base_uri": "https://localhost:8080/"
        },
        "id": "aC3CXXW4DzC0",
        "outputId": "a3a1cddf-4f94-4b7b-dbcc-ffa3e8ab499d"
      },
      "source": [
        "weights, biases = hidden1.get_weights()\n",
        "weights"
      ],
      "execution_count": 28,
      "outputs": [
        {
          "output_type": "execute_result",
          "data": {
            "text/plain": [
              "array([[-0.0489107 , -0.01385438, -0.00996021, ..., -0.05209618,\n",
              "         0.03868344,  0.01209606],\n",
              "       [ 0.05814853, -0.01774473,  0.05506364, ..., -0.06390356,\n",
              "         0.04109708, -0.05122836],\n",
              "       [ 0.03948006,  0.01089308, -0.00057893, ...,  0.00840964,\n",
              "        -0.02686492, -0.03497566],\n",
              "       ...,\n",
              "       [-0.02316548, -0.04288138,  0.02664602, ..., -0.02538207,\n",
              "         0.01308067, -0.01841558],\n",
              "       [ 0.04004961,  0.03351568,  0.01171942, ...,  0.06742765,\n",
              "        -0.06672454, -0.03203717],\n",
              "       [ 0.02071299,  0.0514988 , -0.02886995, ..., -0.03382313,\n",
              "        -0.05642951, -0.07374427]], dtype=float32)"
            ]
          },
          "metadata": {
            "tags": []
          },
          "execution_count": 28
        }
      ]
    },
    {
      "cell_type": "code",
      "metadata": {
        "colab": {
          "base_uri": "https://localhost:8080/"
        },
        "id": "vfINKtVND_8J",
        "outputId": "718b81a1-9091-4fae-974d-a7401a491eb7"
      },
      "source": [
        "biases"
      ],
      "execution_count": 29,
      "outputs": [
        {
          "output_type": "execute_result",
          "data": {
            "text/plain": [
              "array([0., 0., 0., 0., 0., 0., 0., 0., 0., 0., 0., 0., 0., 0., 0., 0., 0.,\n",
              "       0., 0., 0., 0., 0., 0., 0., 0., 0., 0., 0., 0., 0., 0., 0., 0., 0.,\n",
              "       0., 0., 0., 0., 0., 0., 0., 0., 0., 0., 0., 0., 0., 0., 0., 0., 0.,\n",
              "       0., 0., 0., 0., 0., 0., 0., 0., 0., 0., 0., 0., 0., 0., 0., 0., 0.,\n",
              "       0., 0., 0., 0., 0., 0., 0., 0., 0., 0., 0., 0., 0., 0., 0., 0., 0.,\n",
              "       0., 0., 0., 0., 0., 0., 0., 0., 0., 0., 0., 0., 0., 0., 0., 0., 0.,\n",
              "       0., 0., 0., 0., 0., 0., 0., 0., 0., 0., 0., 0., 0., 0., 0., 0., 0.,\n",
              "       0., 0., 0., 0., 0., 0., 0., 0., 0., 0., 0., 0., 0., 0., 0., 0., 0.,\n",
              "       0., 0., 0., 0., 0., 0., 0., 0., 0., 0., 0., 0., 0., 0., 0., 0., 0.,\n",
              "       0., 0., 0., 0., 0., 0., 0., 0., 0., 0., 0., 0., 0., 0., 0., 0., 0.,\n",
              "       0., 0., 0., 0., 0., 0., 0., 0., 0., 0., 0., 0., 0., 0., 0., 0., 0.,\n",
              "       0., 0., 0., 0., 0., 0., 0., 0., 0., 0., 0., 0., 0., 0., 0., 0., 0.,\n",
              "       0., 0., 0., 0., 0., 0., 0., 0., 0., 0., 0., 0., 0., 0., 0., 0., 0.,\n",
              "       0., 0., 0., 0., 0., 0., 0., 0., 0., 0., 0., 0., 0., 0., 0., 0., 0.,\n",
              "       0., 0., 0., 0., 0., 0., 0., 0., 0., 0., 0., 0., 0., 0., 0., 0., 0.,\n",
              "       0., 0., 0., 0., 0., 0., 0., 0., 0., 0., 0., 0., 0., 0., 0., 0., 0.,\n",
              "       0., 0., 0., 0., 0., 0., 0., 0., 0., 0., 0., 0., 0., 0., 0., 0., 0.,\n",
              "       0., 0., 0., 0., 0., 0., 0., 0., 0., 0., 0.], dtype=float32)"
            ]
          },
          "metadata": {
            "tags": []
          },
          "execution_count": 29
        }
      ]
    },
    {
      "cell_type": "code",
      "metadata": {
        "colab": {
          "base_uri": "https://localhost:8080/"
        },
        "id": "wKko5sl1EEv-",
        "outputId": "85640e70-3156-4a9b-9842-6cb927b80874"
      },
      "source": [
        "print(weights.shape, biases.shape)"
      ],
      "execution_count": 30,
      "outputs": [
        {
          "output_type": "stream",
          "text": [
            "(784, 300) (300,)\n"
          ],
          "name": "stdout"
        }
      ]
    },
    {
      "cell_type": "code",
      "metadata": {
        "id": "1rSz1tiHGb4Q"
      },
      "source": [
        "model.compile(loss=\"sparse_categorical_crossentropy\",\n",
        "              optimizer=\"sgd\",\n",
        "              metrics=[\"accuracy\"])"
      ],
      "execution_count": 31,
      "outputs": []
    },
    {
      "cell_type": "code",
      "metadata": {
        "colab": {
          "base_uri": "https://localhost:8080/"
        },
        "id": "k-xX-dMeHDuB",
        "outputId": "c4d36c9c-ba37-4336-b259-9a1942c81f87"
      },
      "source": [
        "history = model.fit(X_train, y_train, epochs=30, validation_data=(X_valid, y_valid))"
      ],
      "execution_count": 32,
      "outputs": [
        {
          "output_type": "stream",
          "text": [
            "Epoch 1/30\n",
            "1719/1719 [==============================] - 5s 3ms/step - loss: 0.7016 - accuracy: 0.7662 - val_loss: 0.4997 - val_accuracy: 0.8276\n",
            "Epoch 2/30\n",
            "1719/1719 [==============================] - 5s 3ms/step - loss: 0.4825 - accuracy: 0.8300 - val_loss: 0.4479 - val_accuracy: 0.8462\n",
            "Epoch 3/30\n",
            "1719/1719 [==============================] - 4s 3ms/step - loss: 0.4390 - accuracy: 0.8464 - val_loss: 0.4152 - val_accuracy: 0.8576\n",
            "Epoch 4/30\n",
            "1719/1719 [==============================] - 4s 3ms/step - loss: 0.4125 - accuracy: 0.8549 - val_loss: 0.4103 - val_accuracy: 0.8554\n",
            "Epoch 5/30\n",
            "1719/1719 [==============================] - 4s 3ms/step - loss: 0.3935 - accuracy: 0.8618 - val_loss: 0.3892 - val_accuracy: 0.8624\n",
            "Epoch 6/30\n",
            "1719/1719 [==============================] - 5s 3ms/step - loss: 0.3773 - accuracy: 0.8685 - val_loss: 0.3766 - val_accuracy: 0.8724\n",
            "Epoch 7/30\n",
            "1719/1719 [==============================] - 5s 3ms/step - loss: 0.3648 - accuracy: 0.8714 - val_loss: 0.3562 - val_accuracy: 0.8770\n",
            "Epoch 8/30\n",
            "1719/1719 [==============================] - 5s 3ms/step - loss: 0.3524 - accuracy: 0.8753 - val_loss: 0.3636 - val_accuracy: 0.8720\n",
            "Epoch 9/30\n",
            "1719/1719 [==============================] - 5s 3ms/step - loss: 0.3425 - accuracy: 0.8783 - val_loss: 0.3538 - val_accuracy: 0.8722\n",
            "Epoch 10/30\n",
            "1719/1719 [==============================] - 5s 3ms/step - loss: 0.3340 - accuracy: 0.8797 - val_loss: 0.3604 - val_accuracy: 0.8744\n",
            "Epoch 11/30\n",
            "1719/1719 [==============================] - 5s 3ms/step - loss: 0.3254 - accuracy: 0.8842 - val_loss: 0.3363 - val_accuracy: 0.8842\n",
            "Epoch 12/30\n",
            "1719/1719 [==============================] - 5s 3ms/step - loss: 0.3170 - accuracy: 0.8868 - val_loss: 0.3334 - val_accuracy: 0.8814\n",
            "Epoch 13/30\n",
            "1719/1719 [==============================] - 5s 3ms/step - loss: 0.3095 - accuracy: 0.8888 - val_loss: 0.3240 - val_accuracy: 0.8834\n",
            "Epoch 14/30\n",
            "1719/1719 [==============================] - 5s 3ms/step - loss: 0.3047 - accuracy: 0.8906 - val_loss: 0.3455 - val_accuracy: 0.8750\n",
            "Epoch 15/30\n",
            "1719/1719 [==============================] - 4s 3ms/step - loss: 0.2964 - accuracy: 0.8930 - val_loss: 0.3191 - val_accuracy: 0.8862\n",
            "Epoch 16/30\n",
            "1719/1719 [==============================] - 5s 3ms/step - loss: 0.2909 - accuracy: 0.8953 - val_loss: 0.3188 - val_accuracy: 0.8864\n",
            "Epoch 17/30\n",
            "1719/1719 [==============================] - 5s 3ms/step - loss: 0.2868 - accuracy: 0.8967 - val_loss: 0.3185 - val_accuracy: 0.8840\n",
            "Epoch 18/30\n",
            "1719/1719 [==============================] - 5s 3ms/step - loss: 0.2798 - accuracy: 0.8989 - val_loss: 0.3195 - val_accuracy: 0.8822\n",
            "Epoch 19/30\n",
            "1719/1719 [==============================] - 5s 3ms/step - loss: 0.2747 - accuracy: 0.9007 - val_loss: 0.3129 - val_accuracy: 0.8866\n",
            "Epoch 20/30\n",
            "1719/1719 [==============================] - 4s 3ms/step - loss: 0.2692 - accuracy: 0.9023 - val_loss: 0.3113 - val_accuracy: 0.8848\n",
            "Epoch 21/30\n",
            "1719/1719 [==============================] - 5s 3ms/step - loss: 0.2647 - accuracy: 0.9037 - val_loss: 0.3331 - val_accuracy: 0.8768\n",
            "Epoch 22/30\n",
            "1719/1719 [==============================] - 4s 3ms/step - loss: 0.2598 - accuracy: 0.9067 - val_loss: 0.3081 - val_accuracy: 0.8880\n",
            "Epoch 23/30\n",
            "1719/1719 [==============================] - 5s 3ms/step - loss: 0.2555 - accuracy: 0.9079 - val_loss: 0.3120 - val_accuracy: 0.8864\n",
            "Epoch 24/30\n",
            "1719/1719 [==============================] - 4s 3ms/step - loss: 0.2517 - accuracy: 0.9088 - val_loss: 0.3053 - val_accuracy: 0.8904\n",
            "Epoch 25/30\n",
            "1719/1719 [==============================] - 5s 3ms/step - loss: 0.2460 - accuracy: 0.9124 - val_loss: 0.2988 - val_accuracy: 0.8864\n",
            "Epoch 26/30\n",
            "1719/1719 [==============================] - 4s 3ms/step - loss: 0.2422 - accuracy: 0.9125 - val_loss: 0.3106 - val_accuracy: 0.8882\n",
            "Epoch 27/30\n",
            "1719/1719 [==============================] - 5s 3ms/step - loss: 0.2381 - accuracy: 0.9141 - val_loss: 0.3042 - val_accuracy: 0.8878\n",
            "Epoch 28/30\n",
            "1719/1719 [==============================] - 5s 3ms/step - loss: 0.2352 - accuracy: 0.9154 - val_loss: 0.3016 - val_accuracy: 0.8890\n",
            "Epoch 29/30\n",
            "1719/1719 [==============================] - 5s 3ms/step - loss: 0.2301 - accuracy: 0.9169 - val_loss: 0.2903 - val_accuracy: 0.8936\n",
            "Epoch 30/30\n",
            "1719/1719 [==============================] - 5s 3ms/step - loss: 0.2269 - accuracy: 0.9188 - val_loss: 0.2944 - val_accuracy: 0.8906\n"
          ],
          "name": "stdout"
        }
      ]
    },
    {
      "cell_type": "code",
      "metadata": {
        "colab": {
          "base_uri": "https://localhost:8080/",
          "height": 324
        },
        "id": "WFk5XO3JKD_X",
        "outputId": "52662517-c758-4dd1-80c4-9010d0a3bad0"
      },
      "source": [
        "import pandas as pd\n",
        "import matplotlib.pyplot as plt\n",
        "\n",
        "pd.DataFrame(history.history).plot(figsize=(8,5))\n",
        "plt.grid(True)\n",
        "plt.gca().set_ylim(0,1)\n",
        "plt.show()"
      ],
      "execution_count": 33,
      "outputs": [
        {
          "output_type": "display_data",
          "data": {
            "image/png": "[encoded data removed]",
            "text/plain": [
              "<Figure size 576x360 with 1 Axes>"
            ]
          },
          "metadata": {
            "tags": [],
            "needs_background": "light"
          }
        }
      ]
    },
    {
      "cell_type": "code",
      "metadata": {
        "colab": {
          "base_uri": "https://localhost:8080/"
        },
        "id": "BfVZ-0QtRzYr",
        "outputId": "358126df-2be4-431e-d743-92d210903210"
      },
      "source": [
        "model.evaluate(X_test,y_test)"
      ],
      "execution_count": 34,
      "outputs": [
        {
          "output_type": "stream",
          "text": [
            "313/313 [==============================] - 1s 2ms/step - loss: 65.1295 - accuracy: 0.8409\n"
          ],
          "name": "stdout"
        },
        {
          "output_type": "execute_result",
          "data": {
            "text/plain": [
              "[65.12950134277344, 0.8409000039100647]"
            ]
          },
          "metadata": {
            "tags": []
          },
          "execution_count": 34
        }
      ]
    },
    {
      "cell_type": "code",
      "metadata": {
        "colab": {
          "base_uri": "https://localhost:8080/"
        },
        "id": "TJk7rq2uR_5W",
        "outputId": "5277b7de-82b8-4555-9e23-d1c17f947906"
      },
      "source": [
        "X_new = X_test[:3]\n",
        "y_proba = model.predict(X_new)\n",
        "y_proba.round(2)"
      ],
      "execution_count": 35,
      "outputs": [
        {
          "output_type": "execute_result",
          "data": {
            "text/plain": [
              "array([[0., 0., 0., 0., 0., 0., 0., 0., 0., 1.],\n",
              "       [0., 0., 1., 0., 0., 0., 0., 0., 0., 0.],\n",
              "       [0., 1., 0., 0., 0., 0., 0., 0., 0., 0.]], dtype=float32)"
            ]
          },
          "metadata": {
            "tags": []
          },
          "execution_count": 35
        }
      ]
    },
    {
      "cell_type": "code",
      "metadata": {
        "colab": {
          "base_uri": "https://localhost:8080/"
        },
        "id": "ynQJBIuxSf6O",
        "outputId": "f1fc6091-8dd0-48cc-a2cb-a8b15d4185dd"
      },
      "source": [
        "y_pred = model.predict_classes(X_new)\n",
        "y_pred"
      ],
      "execution_count": 36,
      "outputs": [
        {
          "output_type": "stream",
          "text": [
            "WARNING:tensorflow:From <ipython-input-36-81ace37e545f>:1: Sequential.predict_classes (from tensorflow.python.keras.engine.sequential) is deprecated and will be removed after 2021-01-01.\n",
            "Instructions for updating:\n",
            "Please use instead:* `np.argmax(model.predict(x), axis=-1)`,   if your model does multi-class classification   (e.g. if it uses a `softmax` last-layer activation).* `(model.predict(x) > 0.5).astype(\"int32\")`,   if your model does binary classification   (e.g. if it uses a `sigmoid` last-layer activation).\n"
          ],
          "name": "stdout"
        },
        {
          "output_type": "execute_result",
          "data": {
            "text/plain": [
              "array([9, 2, 1])"
            ]
          },
          "metadata": {
            "tags": []
          },
          "execution_count": 36
        }
      ]
    },
    {
      "cell_type": "code",
      "metadata": {
        "colab": {
          "base_uri": "https://localhost:8080/"
        },
        "id": "W6C7xrwFSrmJ",
        "outputId": "00394e23-1156-4f44-bafa-f956d707c297"
      },
      "source": [
        "import numpy as np\n",
        "np.array(class_names)[y_pred]"
      ],
      "execution_count": 38,
      "outputs": [
        {
          "output_type": "execute_result",
          "data": {
            "text/plain": [
              "array(['Ankle boot', 'Pullover', 'Trouser'], dtype='<U11')"
            ]
          },
          "metadata": {
            "tags": []
          },
          "execution_count": 38
        }
      ]
    },
    {
      "cell_type": "code",
      "metadata": {
        "colab": {
          "base_uri": "https://localhost:8080/"
        },
        "id": "BG2W6N3VTHsS",
        "outputId": "ff9494b8-8eb5-4ff0-9b42-70d9c9cfd29c"
      },
      "source": [
        "y_new=y_test[:3]\n",
        "y_new"
      ],
      "execution_count": 39,
      "outputs": [
        {
          "output_type": "execute_result",
          "data": {
            "text/plain": [
              "array([9, 2, 1], dtype=uint8)"
            ]
          },
          "metadata": {
            "tags": []
          },
          "execution_count": 39
        }
      ]
    }
  ]
}